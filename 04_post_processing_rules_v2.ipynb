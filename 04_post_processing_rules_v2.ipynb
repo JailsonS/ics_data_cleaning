{
 "cells": [
  {
   "cell_type": "code",
   "execution_count": 1,
   "metadata": {},
   "outputs": [],
   "source": [
    "import pandas as pd\n",
    "import seaborn as sns\n",
    "import matplotlib.pyplot as plt\n",
    "import json\n",
    "import numpy as np\n",
    "from matplotlib import pyplot as plt\n",
    "\n",
    "\n",
    "pd.options.display.float_format = \"{:,.2f}\".format\n",
    "sns.set_theme(style='whitegrid')"
   ]
  },
  {
   "cell_type": "markdown",
   "metadata": {},
   "source": [
    "# Config"
   ]
  },
  {
   "cell_type": "code",
   "execution_count": 2,
   "metadata": {},
   "outputs": [],
   "source": [
    "PATH_DATASET = 'data/banco_carnes_un_v9_ed.parquet'\n",
    "\n",
    "PATH_CORRECTION = 'data/banco_correcao.csv'\n",
    "\n",
    "CODES = {\n",
    "    11: 'CARNE BOVINA',\n",
    "    12: 'CARNE SUINA',\n",
    "    13: 'OUTRAS CARNES',\n",
    "    14: 'AVES',\n",
    "    15: 'CARNES SECAS E SALGADAS',\n",
    "    16: 'VÍSCERAS',\n",
    "    #17: 'PREPARAÇÕES QUE INCLUEM CARNES BOVINAS',\n",
    "    #18: 'PREPARAÇÕES QUE INCLUEM OUTRAS CARNES',\n",
    "    21: 'ALMÔNDEGAS, HAMBURGERS E NUGGETS',\n",
    "    22: 'EMBUTIDOS, FRIOS E CONSERVAS',\n",
    "    #23: 'PREPARAÇÕES QUE INCLUEM CARNES UP',\t\n",
    "    31: 'PESCADOS FRESCOS',\n",
    "    32: 'PESCADOS EM CONSERVA',\n",
    "    33: 'PESCADOS SALGADOS',\n",
    "    #34: 'PREPARAÇÕES QUE INCLUEM PESCADOS',\n",
    "    41: 'OVOS INTEIROS',\n",
    "    #42: 'REFEIÇÕES QUE INCLUEM OVOS',\n",
    "    51: 'PTS - CARNE DE SOJA',\n",
    "    #52: 'PREPARAÇÕES QUE INCLUEM CARNE DE SOJA'\n",
    "}\n",
    "\n",
    "\n",
    "VIS_FIELDS = [\n",
    "    'codigo',\n",
    "    #'ano',\n",
    "\t'item',\n",
    "\t#'un',\n",
    "\t'qt',\n",
    "    'qt_origin',\n",
    "\t'valor_un',\n",
    "\t'valor',\n",
    "\t#'valor_real,\n",
    "\t'un_adj',\n",
    "    'price_kg',\n",
    "    'rule_id',\n",
    "    'unit_kg',\n",
    "    'outlier',\n",
    "    'median_price'\n",
    "    #'rule_version',\n",
    "    #'rule_id'\n",
    "    #'is_outlier_qt',\n",
    "    #'quartile_range_valor_un',\n",
    "    #'quartile_range_qt'\n",
    "]\n",
    "\n",
    "\n",
    "# check 1% da parte superior da variável qt"
   ]
  },
  {
   "cell_type": "markdown",
   "metadata": {},
   "source": [
    "# Input"
   ]
  },
  {
   "cell_type": "code",
   "execution_count": 3,
   "metadata": {},
   "outputs": [],
   "source": [
    "df = pd.read_parquet(PATH_DATASET)\n",
    "\n",
    "df_correction = pd.read_csv(PATH_CORRECTION)"
   ]
  },
  {
   "cell_type": "markdown",
   "metadata": {},
   "source": [
    "# Fix Records\n",
    "It applies special rules defined by the team to adjust 50 records based on the field \"correcao\""
   ]
  },
  {
   "cell_type": "code",
   "execution_count": 4,
   "metadata": {},
   "outputs": [],
   "source": [
    "# apply rule median\n",
    "median_1 = df.query('item.str.contains(\"SALSICHA, DIVERSOS SABORES, COM OU SEM MOLHO\") and ano == 2017')['valor_un'].median()\n",
    "median_2 = df.query('item == \"SALSICHA EM CONSERVA\" and ano == 2017')['valor_un'].median()\n",
    "\n",
    "df = df.set_index(['ano', 'item', 'dados.CNPJ.CPF', '...1', 'valor_real'])\n",
    "df_correction = df_correction.set_index(['ano', 'item', 'dados.CNPJ.CPF', '...1', 'valor_real'])\n",
    "\n",
    "df.loc[\n",
    "    df.index.isin(df_correction.query('correcao == \"manter igual qt\"').index), 'unit_kg'\n",
    "] = df.loc[df.index.isin(df_correction.index), 'qt']\n",
    "\n",
    "df.loc[\n",
    "    df.index.isin(df_correction.query('correcao != \"manter igual qt\" and item.str.contains(\"SALSICHA, DIVERSOS SABORES, COM OU SEM MOLHO\")').index), 'unit_kg'\n",
    "] = df.loc[df.index.isin(df_correction.index), 'valor'] / median_1\n",
    "\n",
    "df.loc[\n",
    "    df.index.isin(df_correction.query('correcao != \"manter igual qt\" and item.str.contains(\"SALSICHA EM CONSERVA\")').index), 'unit_kg'\n",
    "] = df.loc[df.index.isin(df_correction.index), 'valor'] / median_2\n",
    "\n",
    "\n",
    "df.loc[df.index.isin(df_correction.index), 'price_kg'] = df.loc[df.index.isin(df_correction.index), 'valor'] / df.loc[df.index.isin(df_correction.index), 'unit_kg']\n"
   ]
  },
  {
   "cell_type": "code",
   "execution_count": 5,
   "metadata": {},
   "outputs": [],
   "source": [
    "df.reset_index().to_parquet('data/banco_carnes_un_v10_ed.parquet')"
   ]
  }
 ],
 "metadata": {
  "kernelspec": {
   "display_name": "venv",
   "language": "python",
   "name": "python3"
  },
  "language_info": {
   "codemirror_mode": {
    "name": "ipython",
    "version": 3
   },
   "file_extension": ".py",
   "mimetype": "text/x-python",
   "name": "python",
   "nbconvert_exporter": "python",
   "pygments_lexer": "ipython3",
   "version": "3.10.12"
  }
 },
 "nbformat": 4,
 "nbformat_minor": 2
}
