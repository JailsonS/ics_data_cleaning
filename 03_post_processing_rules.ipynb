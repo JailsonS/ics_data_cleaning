{
 "cells": [
  {
   "cell_type": "code",
   "execution_count": 1,
   "metadata": {},
   "outputs": [],
   "source": [
    "import pandas as pd\n",
    "from matplotlib import pyplot as plt\n",
    "import numpy as np\n",
    "import seaborn as sns"
   ]
  },
  {
   "cell_type": "code",
   "execution_count": 2,
   "metadata": {},
   "outputs": [],
   "source": [
    "df = pd.read_parquet('data/banco_carnes_un_v9_ed.parquet')\n",
    "\n",
    "df = df.fillna(0)\n",
    "df.replace([np.inf, -np.inf], 0, inplace=True)\n",
    "\n",
    "VIS_FIELDS = [\n",
    "    'codigo',\n",
    "    #'ano',\n",
    "\t'item',\n",
    "\t#'un',\n",
    "\t'qt',\n",
    "\t'valor_un',\n",
    "\t'valor',\n",
    "\t#'valor_real,\n",
    "\t'un_adj',\n",
    "    'price_kg',\n",
    "    'rule_apply',\n",
    "    'outlier',\n",
    "    #'rule_version',\n",
    "    #'rule_id'\n",
    "    #'is_outlier_qt',\n",
    "    #'quartile_range_valor_un',\n",
    "    #'quartile_range_qt'\n",
    "]"
   ]
  },
  {
   "cell_type": "markdown",
   "metadata": {},
   "source": [
    "# Keep original values in new variables"
   ]
  },
  {
   "cell_type": "code",
   "execution_count": 4,
   "metadata": {},
   "outputs": [],
   "source": [
    "df_org_values = df.query(\n",
    "    \"rule_apply == 0 and (price_kg == 0 or unit_kg == 0) and un_adj == 'KG'\"\n",
    ")\n",
    "\n",
    "df.loc[df_org_values.index, 'price_kg'] = df_org_values['valor_un']\n",
    "df.loc[df_org_values.index, 'unit_kg'] = df_org_values['qt']\n",
    "df['outlier'] = 0"
   ]
  },
  {
   "cell_type": "markdown",
   "metadata": {},
   "source": [
    "# Update outliers"
   ]
  },
  {
   "cell_type": "code",
   "execution_count": 5,
   "metadata": {},
   "outputs": [],
   "source": [
    "df.loc[\n",
    "\t(df['codigo'] == 41) &\n",
    "    ((df['price_kg'] > 25) | (df['price_kg'] < 3)),\n",
    "    'outlier'\n",
    "] = 1\n",
    "\n",
    "df.loc[\n",
    "\t(df['codigo'] == 11) &\n",
    "    ((df['price_kg'] > 60) | (df['price_kg'] < 3)),\n",
    "    'outlier'\n",
    "] = 1\n",
    "\n",
    "df.loc[\n",
    "\t(df['codigo'] == 14) &\n",
    "    ((df['price_kg'] > 38) | (df['price_kg'] < 3)),\n",
    "    'outlier'\n",
    "] = 1\n",
    "\n",
    "df.loc[\n",
    "\t(df['codigo'] == 22) &\n",
    "    ((df['price_kg'] > 40) | (df['price_kg'] < 2.55)),\n",
    "    'outlier'\n",
    "] = 1\n",
    "\n",
    "df.loc[\n",
    "\t(df['codigo'] == 12) &\n",
    "    ((df['price_kg'] > 40) | (df['price_kg'] < 2.55)),\n",
    "    'outlier'\n",
    "] = 1\n",
    "\n",
    "df.loc[\n",
    "\t(df['codigo'] == 51) &\n",
    "    ((df['price_kg'] > 43) | (df['price_kg'] < 3)),\n",
    "    'outlier'\n",
    "] = 1\n",
    "\n",
    "df.loc[\n",
    "\t(df['codigo'] == 15) &\n",
    "    ((df['price_kg'] > 60) | (df['price_kg'] < 4)),\n",
    "    'outlier'\n",
    "] = 1\n",
    "\n",
    "df.loc[\n",
    "\t(df['codigo'] == 31) &\n",
    "    ((df['price_kg'] > 45) | (df['price_kg'] < 3)),\n",
    "    'outlier'\n",
    "] = 1\n",
    "\n",
    "df.loc[\n",
    "\t(df['codigo'] == 33) &\n",
    "    ((df['price_kg'] > 45) | (df['price_kg'] < 3)),\n",
    "    'outlier'\n",
    "] = 1\n",
    "\n",
    "df.loc[\n",
    "\t(df['codigo'] == 32) &\n",
    "    ((df['price_kg'] > 45) | (df['price_kg'] < 5)),\n",
    "    'outlier'\n",
    "] = 1\n",
    "\n",
    "df.loc[\n",
    "\t(df['codigo'] == 16) &\n",
    "    ((df['price_kg'] > 45) | (df['price_kg'] < 3)),\n",
    "    'outlier'\n",
    "] = 1\n",
    "\n",
    "df.loc[\n",
    "\t(df['codigo'] == 21) &\n",
    "    ((df['price_kg'] > 60) | (df['price_kg'] < 3)),\n",
    "    'outlier'\n",
    "] = 1"
   ]
  },
  {
   "cell_type": "code",
   "execution_count": 6,
   "metadata": {},
   "outputs": [],
   "source": [
    "df.to_parquet('data/banco_carnes_un_v9_ed.parquet')"
   ]
  },
  {
   "cell_type": "markdown",
   "metadata": {},
   "source": [
    "# Show chart"
   ]
  },
  {
   "cell_type": "code",
   "execution_count": 9,
   "metadata": {},
   "outputs": [
    {
     "data": {
      "text/plain": [
       "Text(0, 0.5, 'Preço/Kg (R$)')"
      ]
     },
     "execution_count": 9,
     "metadata": {},
     "output_type": "execute_result"
    },
    {
     "data": {
      "image/png": "[encoded data removed]",
      "text/plain": [
       "<Figure size 640x480 with 1 Axes>"
      ]
     },
     "metadata": {},
     "output_type": "display_data"
    }
   ],
   "source": [
    "sns.boxenplot(data=df.query('codigo == 21 and outlier == 0'), x=\"ano\", y=\"price_kg\")\n",
    "\n",
    "plt.xlabel('')\n",
    "plt.ylabel('Preço/Kg (R$)')"
   ]
  }
 ],
 "metadata": {
  "kernelspec": {
   "display_name": "venv",
   "language": "python",
   "name": "python3"
  },
  "language_info": {
   "codemirror_mode": {
    "name": "ipython",
    "version": 3
   },
   "file_extension": ".py",
   "mimetype": "text/x-python",
   "name": "python",
   "nbconvert_exporter": "python",
   "pygments_lexer": "ipython3",
   "version": "3.10.12"
  }
 },
 "nbformat": 4,
 "nbformat_minor": 2
}
